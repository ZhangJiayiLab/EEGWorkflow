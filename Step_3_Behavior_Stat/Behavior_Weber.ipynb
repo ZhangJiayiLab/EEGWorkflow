{
 "cells": [
  {
   "cell_type": "markdown",
   "metadata": {},
   "source": [
    "# Weber's fraction"
   ]
  },
  {
   "cell_type": "code",
   "execution_count": null,
   "metadata": {
    "collapsed": true
   },
   "outputs": [],
   "source": [
    "import EEGAnalysis as ea\n",
    "import pandas as pd\n",
    "import matplotlib.pyplot as plt\n",
    "import numpy as np\n",
    "from scipy import stats"
   ]
  },
  {
   "cell_type": "code",
   "execution_count": null,
   "metadata": {
    "collapsed": true
   },
   "outputs": [],
   "source": [
    "dm = ea.DataManager('/media/STORAGE/EEG/Data')\n",
    "\n",
    "patient_id = 'wangjinan'\n",
    "patient = dm.get_patient(patient_id)\n"
   ]
  },
  {
   "cell_type": "code",
   "execution_count": null,
   "metadata": {
    "collapsed": true
   },
   "outputs": [],
   "source": [
    "_dates = [item['name'] for item in patient._raw_config.values() if item['name'][-1] == '1']\n",
    "_dates.sort()\n",
    "\n",
    "_relative = np.zeros((0, 2, 20))\n",
    "\n",
    "for _idate in _dates:\n",
    "    _behavior = patient.get_marker(marker='behavior', file=_idate)\n",
    "    _marker = patient.get_marker(marker='marker', file=_idate)\n",
    "    _tmp = ea.get_relative_behavior_time(_marker, _behavior)\n",
    "    _relative = np.concatenate((_relative, _tmp.reshape(1, 2, -1)), 0)"
   ]
  },
  {
   "cell_type": "code",
   "execution_count": null,
   "metadata": {},
   "outputs": [],
   "source": [
    "plt.figure(figsize=(8,4))\n",
    "\n",
    "plt.subplot(1,2,1)\n",
    "_std = []\n",
    "_mean = []\n",
    "\n",
    "par = 0  # 0 for 10-s trials, 1 for 5-s trials\n",
    "\n",
    "for i in range(5):\n",
    "    _shift = 5 if par == 1 else 10\n",
    "    _tmp = _relative[:, par, i*4:(i+1)*4] + _shift\n",
    "    _tmp = _tmp[~np.isnan(_tmp)]\n",
    "    _x = np.ones_like(_tmp) * (i+1)\n",
    "    plt.scatter(_x,_tmp, alpha=0.3)\n",
    "    _std.append(np.std(_tmp))\n",
    "    _mean.append(np.std(_tmp)/np.mean(_tmp))\n",
    "    \n",
    "    plt.hlines([np.mean(_tmp)], i+0.75, i+1.25)\n",
    "    plt.vlines([i+1], np.mean(_tmp)-np.std(_tmp), np.mean(_tmp)+np.std(_tmp))\n",
    "    \n",
    "plt.ylim((7,13))\n",
    "    \n",
    "plt.subplot(1,2,2)\n",
    "plt.plot(_mean)\n",
    "# plt.ylim((-4,1))\n",
    "\n",
    "plt.show()"
   ]
  },
  {
   "cell_type": "code",
   "execution_count": null,
   "metadata": {
    "collapsed": true
   },
   "outputs": [],
   "source": []
  }
 ],
 "metadata": {
  "kernelspec": {
   "display_name": "Python 3",
   "language": "python",
   "name": "python3"
  },
  "language_info": {
   "codemirror_mode": {
    "name": "ipython",
    "version": 3
   },
   "file_extension": ".py",
   "mimetype": "text/x-python",
   "name": "python",
   "nbconvert_exporter": "python",
   "pygments_lexer": "ipython3",
   "version": "3.6.3"
  }
 },
 "nbformat": 4,
 "nbformat_minor": 2
}
