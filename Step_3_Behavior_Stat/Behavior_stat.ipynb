{
 "cells": [
  {
   "cell_type": "markdown",
   "metadata": {},
   "source": [
    "# behavior distribution plot"
   ]
  },
  {
   "cell_type": "code",
   "execution_count": null,
   "metadata": {
    "collapsed": true
   },
   "outputs": [],
   "source": [
    "import EEGAnalysis as ea\n",
    "import pandas as pd\n",
    "import matplotlib.pyplot as plt\n",
    "import numpy as np\n",
    "from scipy import stats"
   ]
  },
  {
   "cell_type": "code",
   "execution_count": null,
   "metadata": {
    "collapsed": true
   },
   "outputs": [],
   "source": [
    "dm = ea.DataManager('/media/STORAGE/EEG/Data')\n",
    "\n",
    "patient_id = 'wangjinan'\n",
    "patient = dm.get_patient(patient_id)\n",
    "\n",
    "_bdf = patient.get_marker(marker='behavior')\n",
    "_mdf = patient.get_marker(marker='marker')"
   ]
  },
  {
   "cell_type": "code",
   "execution_count": null,
   "metadata": {
    "collapsed": true
   },
   "outputs": [],
   "source": [
    "_result = []\n",
    "for item in _bdf.file.unique():\n",
    "    _marker = _mdf['marker'][_mdf['file'] == item].values\n",
    "    _behavior = _bdf['marker'][_bdf['file'] == item].values\n",
    "    _q = ea.get_relative_behavior_time(_marker, _behavior)\n",
    "    _result.append(_q)"
   ]
  },
  {
   "cell_type": "code",
   "execution_count": null,
   "metadata": {},
   "outputs": [],
   "source": [
    "# In this code, [:,1,:], 1 was 5-s interval; 0 was 10-s interval\n",
    "_result_par = np.array(_result).reshape(-1, 2, 20)[:,1,:] \n",
    "\n",
    "plt.figure(figsize=(25,5))\n",
    "for i in range(5):\n",
    "    plt.subplot(1,5,i+1)\n",
    "    behavior_stat(_result_par[:,i*4:(i+1)*4])\n",
    "\n",
    "plt.suptitle(patient_id)\n",
    "plt.show()"
   ]
  },
  {
   "cell_type": "markdown",
   "metadata": {},
   "source": [
    "---"
   ]
  },
  {
   "cell_type": "code",
   "execution_count": null,
   "metadata": {
    "collapsed": true
   },
   "outputs": [],
   "source": [
    "def behavior_stat(btime, dw=3):\n",
    "    x = []\n",
    "    y = []\n",
    "    for each in btime:\n",
    "        each = each[~np.isnan(each)]\n",
    "        x += list(each[:-1])\n",
    "        y += list(each[1:])\n",
    "    \n",
    "    x = np.array(x)\n",
    "    y = np.array(y)\n",
    "    \n",
    "#     _del = ~((x > 0) & (y > 0))\n",
    "#     x = x[_del]\n",
    "#     y = y[_del]\n",
    "\n",
    "    a = stats.gaussian_kde(np.vstack((x,y)))\n",
    "\n",
    "    xx, yy = np.mgrid[-3:3:0.01, -3:3:0.01]\n",
    "    positions = np.vstack([xx.ravel(), yy.ravel()])\n",
    "\n",
    "    plt.contourf(xx, yy, a(positions).reshape(xx.shape), 80, cmap=plt.get_cmap('rainbow'))\n",
    "    plt.hlines([0], -3, 3, alpha=0.5)\n",
    "    plt.vlines([0], -3, 3, alpha=0.5)\n",
    "    plt.plot([-4,4],[-4,4], 'k', alpha=0.5)\n",
    "    plt.scatter(x,y, c='k', alpha=1)\n",
    "\n",
    "    plt.xlim((-dw,dw-0.01))\n",
    "    plt.ylim((-dw,dw-0.01))\n",
    "\n",
    "    plt.xlabel('prior tapping')\n",
    "    plt.ylabel('latter tapping')\n",
    "    return x, y"
   ]
  },
  {
   "cell_type": "code",
   "execution_count": null,
   "metadata": {
    "collapsed": true
   },
   "outputs": [],
   "source": []
  }
 ],
 "metadata": {
  "kernelspec": {
   "display_name": "Python 3",
   "language": "python",
   "name": "python3"
  },
  "language_info": {
   "codemirror_mode": {
    "name": "ipython",
    "version": 3
   },
   "file_extension": ".py",
   "mimetype": "text/x-python",
   "name": "python",
   "nbconvert_exporter": "python",
   "pygments_lexer": "ipython3",
   "version": "3.6.3"
  }
 },
 "nbformat": 4,
 "nbformat_minor": 2
}
