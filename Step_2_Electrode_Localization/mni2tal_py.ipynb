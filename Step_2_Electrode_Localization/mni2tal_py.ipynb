{
 "cells": [
  {
   "cell_type": "code",
   "execution_count": null,
   "metadata": {
    "collapsed": true
   },
   "outputs": [],
   "source": [
    "import EEGAnalysis as ea"
   ]
  },
  {
   "cell_type": "markdown",
   "metadata": {},
   "source": [
    "## Linear Registration\n",
    "\n",
    "1. MRI -> MNI152 Atlas => MRI_new\n",
    "2. post_ct -> MRI_new => post_ct_new\n",
    "\n"
   ]
  },
  {
   "cell_type": "markdown",
   "metadata": {},
   "source": [
    "## FIND COORD\n",
    "\n",
    "use `FSL` in Linux, find corresponding coordinates in `post_ct_new`(MNI) and `post_ct`(CT)"
   ]
  },
  {
   "cell_type": "code",
   "execution_count": null,
   "metadata": {
    "scrolled": false
   },
   "outputs": [],
   "source": [
    "a = ea.Electrodes('/media/STORAGE/EEG/Data', 'wangjinan')"
   ]
  },
  {
   "cell_type": "code",
   "execution_count": null,
   "metadata": {
    "collapsed": true
   },
   "outputs": [],
   "source": [
    "# input new layout\n",
    "a.create_layout()\n",
    "\n",
    "# save mni coord\n",
    "a.export_csv()\n",
    "\n",
    "# save layout info into hdf5, which can be restored through method: EEGAnalysis.Electrodes.restore_hdf5()\n",
    "a.export_hdf5()\n",
    "\n",
    "# convert mni to tal\n",
    "a.mni2tal()\n",
    "\n",
    "# query brain label with talairach deamon\n",
    "a.query(taljar='/media/STORAGE/EEG/talairach.jar')"
   ]
  }
 ],
 "metadata": {
  "kernelspec": {
   "display_name": "Python 3",
   "language": "python",
   "name": "python3"
  },
  "language_info": {
   "codemirror_mode": {
    "name": "ipython",
    "version": 3
   },
   "file_extension": ".py",
   "mimetype": "text/x-python",
   "name": "python",
   "nbconvert_exporter": "python",
   "pygments_lexer": "ipython3",
   "version": "3.6.3"
  }
 },
 "nbformat": 4,
 "nbformat_minor": 2
}
