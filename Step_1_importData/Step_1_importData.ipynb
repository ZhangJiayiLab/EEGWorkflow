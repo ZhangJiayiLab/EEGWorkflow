{
 "cells": [
  {
   "cell_type": "code",
   "execution_count": null,
   "metadata": {
    "collapsed": true
   },
   "outputs": [],
   "source": [
    "import EEGAnalysis as ea\n",
    "# import h5py\n",
    "# import numpy as np"
   ]
  },
  {
   "cell_type": "code",
   "execution_count": null,
   "metadata": {
    "collapsed": true
   },
   "outputs": [],
   "source": [
    "_data_dir = '/media/STORAGE/EEG/Data'  # directory of data bank\n",
    "dm = ea.DataManager(_data_dir)         # create a data manager\n",
    "\n",
    "patient_id = 'demo'                    # patient name/id\n",
    "patient = dm.create_patient(patient_id)# create a new patient with his/her name/id"
   ]
  },
  {
   "cell_type": "markdown",
   "metadata": {},
   "source": [
    "if you are using the server, copy your data through samba service into `<patient>/EEG/Raw`\n",
    "\n",
    "otherwise, change `_append_raw_dir` into your data path"
   ]
  },
  {
   "cell_type": "code",
   "execution_count": null,
   "metadata": {
    "scrolled": true
   },
   "outputs": [],
   "source": [
    "# change the path to where the raw data were\n",
    "_append_raw_dir = '/media/STORAGE/EEG/Data/%s/EEG/Raw'%patient_id  \n",
    "\n",
    "# update data querying index\n",
    "_ = dm.update_raw_to_patient(patient_id, _append_raw_dir, copy=False, overwrite=True)  "
   ]
  },
  {
   "cell_type": "code",
   "execution_count": null,
   "metadata": {},
   "outputs": [],
   "source": [
    "# reload the patient with his/her name/id\n",
    "patient = dm.get_patient(patient_id)\n",
    "\n",
    "# create isplit data format for future analysis\n",
    "patient.create_isplit() "
   ]
  },
  {
   "cell_type": "code",
   "execution_count": null,
   "metadata": {},
   "outputs": [],
   "source": [
    "# auto marker detection\n",
    "\n",
    "# reload the patient with his/her name/id\n",
    "patient = dm.get_patient(patient_id)\n",
    "\n",
    "patient.update_DC_marker(mapping={'POL DC10':'marker', 'POL DC09':'behavior'}) "
   ]
  },
  {
   "cell_type": "markdown",
   "metadata": {},
   "source": [
    "---\n",
    "### How to load data"
   ]
  },
  {
   "cell_type": "code",
   "execution_count": null,
   "metadata": {
    "collapsed": true
   },
   "outputs": [],
   "source": [
    "_data_dir = '/media/STORAGE/EEG/Data'  # directory of data bank\n",
    "ea_manager = ea.DataManager(_data_dir)  ## create data manager\n",
    "\n",
    "patient_id = 'demo'\n",
    "# patient = ea_manager.create_patient(patient_id)  ## create new patient\n",
    "patient = ea_manager.get_patient(patient_id)  ## load previous patient"
   ]
  },
  {
   "cell_type": "code",
   "execution_count": null,
   "metadata": {
    "collapsed": true
   },
   "outputs": [],
   "source": [
    "# b = patient.load_raw('180827-2')             # import edf raw data\n",
    "b = patient.load_isplit(chidx=10)            # import isplit data"
   ]
  },
  {
   "cell_type": "code",
   "execution_count": null,
   "metadata": {
    "collapsed": true
   },
   "outputs": [],
   "source": []
  }
 ],
 "metadata": {
  "kernelspec": {
   "display_name": "Python 3",
   "language": "python",
   "name": "python3"
  },
  "language_info": {
   "codemirror_mode": {
    "name": "ipython",
    "version": 3
   },
   "file_extension": ".py",
   "mimetype": "text/x-python",
   "name": "python",
   "nbconvert_exporter": "python",
   "pygments_lexer": "ipython3",
   "version": "3.6.3"
  }
 },
 "nbformat": 4,
 "nbformat_minor": 2
}
