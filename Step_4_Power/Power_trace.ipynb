{
 "cells": [
  {
   "cell_type": "code",
   "execution_count": 42,
   "metadata": {
    "collapsed": true
   },
   "outputs": [],
   "source": [
    "from multiprocessing import Pool\n",
    "\n",
    "import EEGAnalysis as ea\n",
    "import h5py\n",
    "from scipy.io import savemat, loadmat\n",
    "import numpy as np\n",
    "import scipy.signal as signal\n",
    "import matplotlib.pyplot as plt\n",
    "import re, os\n",
    "from tqdm import tqdm"
   ]
  },
  {
   "cell_type": "code",
   "execution_count": 5,
   "metadata": {
    "collapsed": true
   },
   "outputs": [],
   "source": [
    "patient_id = 'zhangchen'\n",
    "\n",
    "ea_manager = ea.DataManager('/media/STORAGE/EEG/Data')  ## create data manager\n",
    "patient = ea_manager.create_patient(patient_id)  ## create new patient\n",
    "# patient = ea_manager.get_patient(patient_id)  ## load previous patient\n",
    "\n",
    "##### Constants #####\n",
    "_freq = 2000\n",
    "ROI = (-3, 3)\n",
    "# frange = np.logspace(np.log10(10), np.log10(150), 40)\n",
    "frange = np.logspace(np.log10(1), np.log10(150), 40)\n",
    "zbase = (-2,-1)\n",
    "tspec = np.linspace(ROI[0], ROI[1], int(_freq)*(ROI[1]-ROI[0]))\n",
    "\n",
    "\n",
    "nyq = _freq / 2.0\n",
    "width = 5.0 / nyq\n",
    "ripple_db = 60.0\n",
    "\n",
    "# Compute the order and Kaiser parameter for the FIR filter.\n",
    "N, beta = signal.kaiserord(ripple_db, width)\n",
    "\n",
    "taps = signal.firwin(N, [50/nyq, 80/nyq],window=('kaiser', beta),pass_zero=False)\n",
    "\n",
    "# _filted = signal.filtfilt(taps, 1, _data)\n",
    "# _hilbert_pwr = np.abs(signal.hilbert(_filted))"
   ]
  },
  {
   "cell_type": "code",
   "execution_count": 43,
   "metadata": {},
   "outputs": [
    {
     "name": "stderr",
     "output_type": "stream",
     "text": [
      "100%|██████████| 38220/38220 [40:21<00:00, 15.78it/s] \n"
     ]
    }
   ],
   "source": [
    "_total_ch = len(patient._sgch_config['chidx'])\n",
    "export_name = './export/zhangchen_pwr_5-1'\n",
    "\n",
    "interval = '5'  # '5' or '10'\n",
    "\n",
    "_raw_trace = {}\n",
    "\n",
    "# if not os.path.isdir(export_dir):\n",
    "#     os.mkdir(export_dir)\n",
    "#     os.chmod(export_dir, 0o775)\n",
    "\n",
    "pbar = tqdm(total=len(_data_list.keys())*_total_ch*20)\n",
    "for idate in _data_list.keys():\n",
    "    date_name = 'd%s'%(idate.replace('-','p'))\n",
    "    \n",
    "    if interval == '5':\n",
    "        _marker = patient.get_marker(file=idate)[20:]\n",
    "    elif interval == '10':\n",
    "        _marker = patient.get_marker(file=idate)[:20]\n",
    "    else:\n",
    "        raise ValueError(\"unkown paradigm code: %s\"%paradigm)\n",
    "    \n",
    "    _result = np.zeros((20, _total_ch, np.size(tspec)))\n",
    "    \n",
    "    for chidx in range(_total_ch):\n",
    "        _entry = patient.load_isplit(chidx, idate)[idate]['value']\n",
    "        \n",
    "        _filtered = signal.hilbert(signal.filtfilt(taps, 1, _data_list['190316-1']['value']))\n",
    "        _epoch = ea.create_1d_epoch_bymarker(_filtered, _m, ROI, int(_freq))\n",
    "        \n",
    "        for i in range(20):\n",
    "            _pwr = ea.decomposition.dwt_power(_epoch[i].reshape((1,1,-1)), _freq, baseline=(zbase[0]-ROI[0], zbase[1]-ROI[0]))\n",
    "            _result[i, chidx, :] = _pwr[0]\n",
    "            pbar.update(1)\n",
    "        \n",
    "    _raw_trace[date_name] = _result\n",
    "        \n",
    "pbar.close()\n",
    "\n",
    "# ================ export ===============\n",
    "savemat(export_name+'.mat', _raw_trace, do_compression=True)\n",
    "\n",
    "with h5py.File(export_name+'.h5', 'w') as _f:\n",
    "    for key, val in _raw_trace.items():\n",
    "        _f.create_dataset(key, data=val, compression=9)"
   ]
  },
  {
   "cell_type": "code",
   "execution_count": null,
   "metadata": {
    "collapsed": true
   },
   "outputs": [],
   "source": []
  }
 ],
 "metadata": {
  "kernelspec": {
   "display_name": "Python 3",
   "language": "python",
   "name": "python3"
  },
  "language_info": {
   "codemirror_mode": {
    "name": "ipython",
    "version": 3
   },
   "file_extension": ".py",
   "mimetype": "text/x-python",
   "name": "python",
   "nbconvert_exporter": "python",
   "pygments_lexer": "ipython3",
   "version": "3.6.3"
  }
 },
 "nbformat": 4,
 "nbformat_minor": 2
}
