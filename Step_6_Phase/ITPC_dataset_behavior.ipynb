{
 "cells": [
  {
   "cell_type": "code",
   "execution_count": null,
   "metadata": {},
   "outputs": [],
   "source": [
    "# import ipyparallel as ipp\n",
    "from multiprocessing import Pool\n",
    "\n",
    "import EEGAnalysis as ea\n",
    "import h5py\n",
    "import numpy as np\n",
    "import pandas as pd\n",
    "import scipy.signal as signal\n",
    "import matplotlib.pyplot as plt\n",
    "import re, os\n",
    "from tqdm import tqdm\n",
    "\n",
    "tspec = np.linspace(-3,3,12000)\n",
    "\n",
    "patient_id = 'wangjinan'\n",
    "patient = ea.DataManager('/media/STORAGE/EEG/Data/').get_patient(patient_id)\n",
    "_dataset = h5py.File('./%s-5-delta.h5'%patient_id, 'r')\n",
    "\n",
    "_dates = list(_dataset.keys())\n",
    "print(_dates)\n",
    "\n",
    "# _dataset.close()\n",
    "\n",
    "# for patient [zhouchen, shuyunfan, fansulong, wuzhenwei]\n",
    "# _behavior = pd.read_csv('../../Step_3_Behavior_Stat/fansulong-behavior-final.csv', dtype={'date':'str'})\n",
    "# check_behavior_prediction = lambda x,y,z: _behavior.marker[(_behavior.paradigm == x) & (_behavior['date'] == y)].values < z\n",
    "\n",
    "# for other patients\n",
    "def check_behavior_prediction(paradigm, date, thresh=0):\n",
    "    _sign, _interval = re.findall(r'(\\d)-(\\d+)', paradigm)[0]\n",
    "    \n",
    "    _b_marker = patient.get_marker('behavior', file='%s-%s'%(date, _sign))\n",
    "    _m_marker = patient.get_marker('marker', file='%s-%s'%(date, _sign))\n",
    "    \n",
    "    if _interval == '5':\n",
    "        return ea.get_relative_behavior_time(_m_marker, _b_marker)[20:] < thresh\n",
    "    elif _interval == '10':\n",
    "        return ea.get_relative_behavior_time(_m_marker, _b_marker)[:20] < thresh\n",
    "    else:\n",
    "        raise ValueError('unknown paradigm: %s'%paradigm)\n",
    "\n",
    "\n",
    "# _behavior[(_behavior.paradigm=='1-10') & (_behavior.date=='180901')].head(10)\n",
    "# _behavior.head()"
   ]
  },
  {
   "cell_type": "code",
   "execution_count": null,
   "metadata": {},
   "outputs": [],
   "source": [
    "# test\n",
    "_prediction = check_behavior_prediction('1-10', '190330')\n",
    "_prediction"
   ]
  },
  {
   "cell_type": "code",
   "execution_count": null,
   "metadata": {
    "collapsed": true
   },
   "outputs": [],
   "source": [
    "def _step_plot(chidx):\n",
    "    _ch_itpc_with_prediction = []\n",
    "    _ch_itpc_without_prediction = []\n",
    "\n",
    "    for idate in _dates:\n",
    "        _entry = np.array(_dataset[idate]['1']['%03d'%chidx])\n",
    "        _prediction = check_behavior_prediction('1-5', idate, 0)\n",
    "\n",
    "        try:  # skip when that day has no prediction and vice versa.\n",
    "            _ch_itpc_with_prediction.append(_entry[_prediction])\n",
    "        except IndexError:\n",
    "            pass\n",
    "        \n",
    "        try:\n",
    "            _ch_itpc_without_prediction.append(_entry[~_prediction])\n",
    "        except IndexError:\n",
    "            pass\n",
    "\n",
    "    _ch_itpc_with_prediction = np.array([ea.decomposition.dwt_itpc(item.reshape((1,)+item.shape))[0] for item in _ch_itpc_with_prediction])\n",
    "    _ch_itpc_without_prediction = np.array([ea.decomposition.dwt_itpc(item.reshape((1,)+item.shape))[0] for item in _ch_itpc_without_prediction])\n",
    "\n",
    "\n",
    "    plt.figure(figsize=(16,6))\n",
    "\n",
    "    plt.subplot(1,2,1)\n",
    "    _curve = np.mean(_ch_itpc_with_prediction, 0)\n",
    "    _sem = np.std(_ch_itpc_with_prediction, 0) / np.size(_ch_itpc_with_prediction, 0)\n",
    "\n",
    "    plt.plot(tspec, _ch_itpc_with_prediction.T, c='k', alpha=0.1)\n",
    "    plt.plot(tspec, _curve)\n",
    "    plt.fill_between(tspec, _curve-_sem, _curve+_sem, alpha=0.3)\n",
    "    plt.ylim((0,1))\n",
    "\n",
    "    plt.title('w/')\n",
    "\n",
    "    plt.subplot(1,2,2)\n",
    "    _curve = np.mean(_ch_itpc_without_prediction, 0)\n",
    "    _sem = np.std(_ch_itpc_without_prediction, 0) / np.size(_ch_itpc_without_prediction, 0)\n",
    "\n",
    "    plt.plot(tspec, _ch_itpc_without_prediction.T, c='k', alpha=0.1)\n",
    "    plt.plot(tspec, _curve)\n",
    "    plt.fill_between(tspec, _curve-_sem, _curve+_sem, alpha=0.3)\n",
    "    plt.ylim((0,1))\n",
    "    plt.title('w/o')\n",
    "\n",
    "    plt.suptitle('channel %d'%chidx)\n",
    "    plt.savefig(\"ITPC_seq_export_behavior/itpc_prediction-5-delta/channel-%d.png\"%chidx, bbox_inches=\"tight\")\n",
    "    plt.close()"
   ]
  },
  {
   "cell_type": "code",
   "execution_count": null,
   "metadata": {
    "collapsed": true
   },
   "outputs": [],
   "source": [
    "# preview\n",
    "\n",
    "_step_plot(10)\n",
    "# plt.savefig(\"ITPC_seq_export_behavior/itpc_prediction-5-delta/channel-%d.png\"%chidx, bbox_inches=\"tight\")\n",
    "plt.show()\n",
    "plt.close()"
   ]
  },
  {
   "cell_type": "code",
   "execution_count": null,
   "metadata": {
    "scrolled": true
   },
   "outputs": [],
   "source": [
    "# export\n",
    "\n",
    "subfolder = 'behavior-prediction-%s-5'%patient_id\n",
    "if not os.path.isdir(os.path.join('export', subfolder)):\n",
    "    ea.mktree(os.path.join('export', subfolder))\n",
    "    \n",
    "total_ch = len(_dataset[_dates[0]]['1'])\n",
    "\n",
    "# def _step(chidx):\n",
    "#     _step_plot(chidx)\n",
    "#     plt.savefig(os.path.join('export', subfolder, \"channel-%d.png\"%chidx), bbox_inches=\"tight\")\n",
    "    \n",
    "# with Pool(processes=5) as _p:\n",
    "#     list(tqdm(_p.imap_unordered(_step_plot, range(total_ch)), total = total_ch))\n",
    "\n",
    "for chidx in tqdm(range(total_ch)):\n",
    "    _step_plot(chidx)\n",
    "    plt.savefig(os.path.join('export', subfolder, \"channel-%d.png\"%chidx), bbox_inches=\"tight\")\n",
    "    plt.close()"
   ]
  },
  {
   "cell_type": "code",
   "execution_count": null,
   "metadata": {
    "collapsed": true
   },
   "outputs": [],
   "source": [
    "_dataset.close()"
   ]
  },
  {
   "cell_type": "markdown",
   "metadata": {},
   "source": [
    "---"
   ]
  },
  {
   "cell_type": "code",
   "execution_count": null,
   "metadata": {},
   "outputs": [],
   "source": [
    "_location = pd.read_csv('/media/STORAGE/EEG/electrode_layout/layout_fansulong/fansulong_tal_coord.td.fill.csv')\n",
    "_location.head()\n",
    "\n",
    "# _c = ['Brodmann area 23', 'Brodmann area 24','Brodmann area 29', 'Brodmann area 30', 'Brodmann area 31', 'Brodmann area 32', 'Brodmann area 33', ]  # Cingulate,zhouchen &shuyunfan\n",
    "# _c = ['Brodmann area 17', 'Brodmann area 18', 'Brodmann area 19', ]  # Visual, zhouchen\n",
    "# _c = ['Brodmann area 7', ]  # PCun,zhouchen\n",
    "_c = ['Brodmann area 21']  # MTG,middle temporal gyrus, zhouchen,shuyunfan,fansulong,wuzhenwei,wangjinan\n",
    "# _c = ['Brodmann area 38','Brodmann area 22']  # STG, superior temporal gyrus,zhouchen,wuzhenwei,zhangchen,wangjinan\n",
    "# _c = ['Brodmann area 20']  # ITG, inferior temporal gyrus,fansulong\n",
    "# _c = ['Brodmann area 35', 'Brodmann area 34', 'Brodmann area 28', 'Amygdala','Hippocampus']  # PHG, Parahippocampal gyrus\n",
    "# _c = ['Brodmann area 45','Brodmann area 46','Brodmann area 47']  # IFG,inferior frontal gyrus\n",
    "# _c = ['Brodmann area 3','Brodmann area 2','Brodmann area 1']  # postcentral gyrus (Primary somatosensory cortex),shuyunfan\n",
    "# _c = ['Brodmann area 4']  # M1,primary motor cortex, shuyunfan\n",
    "# _c = ['Brodmann area 6']  # SMA, Supplementary motor area, shuyunfan\n",
    "# _c = ['Brodmann area 40']  # IPL, Inferior Parietal Lobule, wuzhenwei & zhangchen\n",
    "# _c = ['Brodmann area 37']  # FG, Fusigorm gyrus, wuzhenwei\n",
    "# _c = ['Brodmann area 13']  # INS, Insula,wuzhenwei & zhangchen & wangjinan\n",
    "# _c = ['Brodmann area 39']  # AG,Angular gyrus,zhangchen\n",
    "# _c = ['Brodmann area 41']  # AC, Auditory cortex,zhangchen\n",
    "# _c = ['Brodmann area 10']  # APFC, Antirior prefrontal cortex,wangjinan\n",
    "# _c = ['Brodmann area 20']  # ITL, Inferior temporal lobel,wangjinan\n",
    "\n",
    "\n",
    "_target = np.ones(shape=(0,), dtype='int')\n",
    "for item in _c:\n",
    "    _stack = _location['Record Number'][_location['Level 5'] == item].values\n",
    "    print(item, np.unique(_stack))\n",
    "    _target = np.hstack((_target, _stack))\n",
    "_target = np.unique(_target)\n",
    "_target "
   ]
  },
  {
   "cell_type": "code",
   "execution_count": null,
   "metadata": {},
   "outputs": [],
   "source": [
    "%%time\n",
    "_target_prediction = []\n",
    "_target_noprediction = []\n",
    "\n",
    "for chidx in _target:\n",
    "    _ch_itpc_with_prediction = []\n",
    "    _ch_itpc_without_prediction = []\n",
    "\n",
    "    for idate in _dates:\n",
    "        _entry = np.array(_dataset[idate]['1']['%03d'%chidx])\n",
    "        _prediction = check_behavior_prediction('1-10', idate, 0)\n",
    "\n",
    "        _ch_itpc_with_prediction.append(_entry[_prediction])\n",
    "        _ch_itpc_without_prediction.append(_entry[~_prediction])\n",
    "\n",
    "    _ch_itpc_with_prediction = np.array([ea.decomposition.dwt_itpc(item.reshape((1,)+item.shape))[0] for item in _ch_itpc_with_prediction])\n",
    "    _ch_itpc_without_prediction = np.array([ea.decomposition.dwt_itpc(item.reshape((1,)+item.shape))[0] for item in _ch_itpc_without_prediction])\n",
    "    \n",
    "    [_target_prediction.append(item) for item in _ch_itpc_with_prediction]\n",
    "    [_target_noprediction.append(item) for item in _ch_itpc_without_prediction]\n"
   ]
  },
  {
   "cell_type": "code",
   "execution_count": null,
   "metadata": {},
   "outputs": [],
   "source": [
    "plt.figure(figsize=(16,6))\n",
    "plt.subplot(1,2,1)\n",
    "_raw = np.array(_target_prediction)\n",
    "_curve = np.mean(_raw, 0)\n",
    "_sem = np.std(_raw, 0) / np.sqrt(np.size(_raw, 0))\n",
    "\n",
    "plt.plot(tspec, _curve)\n",
    "plt.fill_between(tspec, _curve-_sem, _curve+_sem, alpha=0.5)\n",
    "plt.ylim((0,1))\n",
    "\n",
    "plt.subplot(1,2,2)\n",
    "_raw = np.array(_target_noprediction)\n",
    "_curve = np.mean(_raw, 0)\n",
    "_sem = np.std(_raw, 0) / np.sqrt(np.size(_raw, 0))\n",
    "\n",
    "plt.plot(tspec, _curve)\n",
    "plt.fill_between(tspec, _curve-_sem, _curve+_sem, alpha=0.5)\n",
    "plt.ylim((0,1))\n",
    "\n",
    "plt.suptitle('zhouchen-cingulate')\n",
    "\n",
    "# plt.show()\n",
    "plt.savefig('ITPC_seq_export_behavior/zhouchen-cg-10.png')\n",
    "plt.savefig('ITPC_seq_export_behavior/zhouchen-cg-10.eps')"
   ]
  },
  {
   "cell_type": "code",
   "execution_count": null,
   "metadata": {},
   "outputs": [],
   "source": [
    "_raw = np.array(_target_noprediction)\n",
    "# plt.plot(tspec, _raw.T, 'k', alpha=0.1)\n",
    "plt.plot(np.mean(_raw, 0))\n",
    "plt.ylim((0,1))\n",
    "plt.show()"
   ]
  }
 ],
 "metadata": {
  "kernelspec": {
   "display_name": "Python 3",
   "language": "python",
   "name": "python3"
  },
  "language_info": {
   "codemirror_mode": {
    "name": "ipython",
    "version": 3
   },
   "file_extension": ".py",
   "mimetype": "text/x-python",
   "name": "python",
   "nbconvert_exporter": "python",
   "pygments_lexer": "ipython3",
   "version": "3.6.3"
  }
 },
 "nbformat": 4,
 "nbformat_minor": 2
}
