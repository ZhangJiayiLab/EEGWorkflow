{
 "cells": [
  {
   "cell_type": "code",
   "execution_count": 1,
   "metadata": {
    "collapsed": true
   },
   "outputs": [],
   "source": [
    "# import ipyparallel as ipp\n",
    "from multiprocessing import Pool\n",
    "# from multiprocessing import Queue\n",
    "# from multiprocessing import Process\n",
    "\n",
    "import EEGAnalysis as ea\n",
    "import h5py\n",
    "import numpy as np\n",
    "import pandas as pd\n",
    "import scipy.signal as signal\n",
    "import matplotlib.pyplot as plt\n",
    "import re, os\n",
    "from tqdm import tqdm"
   ]
  },
  {
   "cell_type": "code",
   "execution_count": 11,
   "metadata": {
    "collapsed": true
   },
   "outputs": [],
   "source": [
    "dataset = ea.DataManager('/home/yizhan/storage/EEG/Data')\n",
    "\n",
    "patient_id = 'zhouchen'\n",
    "patient = dataset.get_patient(patient_id)\n",
    "\n",
    "# contants\n",
    "_freq = 2000\n",
    "ROI = (-3, 3)\n",
    "tspec = np.linspace(ROI[0],ROI[1],_freq * (ROI[1] - ROI[0]))\n",
    "\n",
    "nyq = _freq / 2.0\n",
    "width = 5.0 / nyq\n",
    "ripple_db = 60.0\n",
    "\n",
    "# Compute the order and Kaiser parameter for the FIR filter.\n",
    "N, beta = signal.kaiserord(ripple_db, width)\n",
    "\n",
    "taps = signal.firwin(N, [0.5/nyq, 2/nyq],window=('kaiser', beta),pass_zero=False)"
   ]
  },
  {
   "cell_type": "code",
   "execution_count": 12,
   "metadata": {
    "collapsed": true
   },
   "outputs": [
    {
     "data": {
      "text/plain": [
       "['180827-1',\n",
       " '180827-2',\n",
       " '180827-3',\n",
       " '180829-1',\n",
       " '180829-2',\n",
       " '180829-3',\n",
       " '180831-1',\n",
       " '180831-2',\n",
       " '180831-3',\n",
       " '180901-1',\n",
       " '180901-2',\n",
       " '180901-3',\n",
       " '180902-1',\n",
       " '180902-2',\n",
       " '180902-3',\n",
       " '180903-1',\n",
       " '180903-2',\n",
       " '180903-3',\n",
       " '180904-1',\n",
       " '180904-2',\n",
       " '180904-3']"
      ]
     },
     "execution_count": 12,
     "metadata": {},
     "output_type": "execute_result"
    }
   ],
   "source": [
    "# preview date and paradigm\n",
    "chidx = 27\n",
    "data_list = patient.load_isplit(chidx)\n",
    "list(data_list.keys())"
   ]
  },
  {
   "cell_type": "code",
   "execution_count": 4,
   "metadata": {},
   "outputs": [],
   "source": [
    "def _load_phase(inputs):\n",
    "    chidx, idate = inputs\n",
    "    data_list = patient.load_isplit(chidx, idate)\n",
    "\n",
    "    _entry = data_list[idate]['value']\n",
    "    # _marker = patient.get_marker(file=idate, paradigm='%s-10'%idate[-1])\n",
    "    _marker = patient.get_marker(file=idate)[20:]\n",
    "\n",
    "    try:\n",
    "        _filted = signal.hilbert(signal.filtfilt(taps, 1, _entry))\n",
    "    except ValueError:\n",
    "        print('skip channel %03d, %s'%(chidx, idate))\n",
    "        return {'%s/%s/%03d'%(_date_str, _pardigm_str, chidx): None}\n",
    "        \n",
    "    _epoch = ea.create_1d_epoch_bymarker(_filted, _marker, ROI, int(_freq))\n",
    "\n",
    "    _date_str, _pardigm_str = re.findall(r'(\\d{6})-(\\d{1})', idate)[0]\n",
    "    return {'%s/%s/%03d'%(_date_str, _pardigm_str, chidx): _epoch}"
   ]
  },
  {
   "cell_type": "code",
   "execution_count": null,
   "metadata": {},
   "outputs": [
    {
     "name": "stderr",
     "output_type": "stream",
     "text": [
      " 13%|█▎        | 305/2331 [03:57<20:55,  1.61it/s]"
     ]
    }
   ],
   "source": [
    "_inputs = []\n",
    "_total_ch = len(patient._sgch_config['chidx'])\n",
    "\n",
    "for chidx in range(_total_ch):\n",
    "    for idate in data_list:\n",
    "        _inputs.append((chidx, idate))\n",
    "        \n",
    "with Pool(processes=5) as _p:\n",
    "    result = list(tqdm(_p.imap_unordered(_load_phase, _inputs), total=len(_inputs)))"
   ]
  },
  {
   "cell_type": "code",
   "execution_count": 8,
   "metadata": {},
   "outputs": [
    {
     "name": "stderr",
     "output_type": "stream",
     "text": [
      "100%|██████████| 1743/1743 [04:04<00:00,  7.30it/s]\n"
     ]
    }
   ],
   "source": [
    "# export hdf5\n",
    "_data_export = h5py.File('%s-5-delta.h5'%patient_id, 'w')\n",
    "\n",
    "# setup hdf5 groups\n",
    "for idate in np.unique([idate[:6] for idate in data_list.keys()]):\n",
    "    [_data_export.create_group('%s/%d'%(idate, i)) for i in range(1,4)]\n",
    "\n",
    "for item in tqdm(result):\n",
    "    for _key, _val in item.items():\n",
    "        _data_export.create_dataset(_key, data=_val, compression=4)\n",
    "\n",
    "_data_export.close()\n",
    "result = None  # clear memory"
   ]
  },
  {
   "cell_type": "markdown",
   "metadata": {},
   "source": [
    "---\n",
    "\n",
    "linear step"
   ]
  },
  {
   "cell_type": "code",
   "execution_count": 6,
   "metadata": {},
   "outputs": [
    {
     "name": "stderr",
     "output_type": "stream",
     "text": [
      "100%|██████████| 1743/1743 [39:12<00:00,  1.11s/it] \n"
     ]
    }
   ],
   "source": [
    "_data_export = h5py.File('%s-5-delta.h5'%patient_id, 'w')\n",
    "\n",
    "# setup hdf5 groups\n",
    "for idate in np.unique([idate[:6] for idate in data_list.keys()]):\n",
    "    [_data_export.create_group('%s/%d'%(idate, i)) for i in range(1,4)]\n",
    "\n",
    "\n",
    "_total_ch = len(patient._sgch_config['chidx'])\n",
    "\n",
    "pbar = tqdm(total=_total_ch*len(data_list))\n",
    "for chidx in range(_total_ch):\n",
    "    data_list = patient.load_isplit(chidx)\n",
    "    for idate in data_list.keys():\n",
    "        _entry = data_list[idate]['value']\n",
    "#         _marker = patient.get_marker(file=idate, paradigm='%s-10'%idate[-1])\n",
    "        _marker = patient.get_marker(file=idate)[20:]\n",
    "\n",
    "        try:\n",
    "            _filted = signal.hilbert(signal.filtfilt(taps, 1, _entry))\n",
    "        except ValueError:\n",
    "            print('skip channel %03d, %s'%(chidx, idate))\n",
    "            continue\n",
    "        _epoch = ea.create_1d_epoch_bymarker(_filted, _marker, ROI, int(_freq))\n",
    "\n",
    "        _date_str, _pardigm_str = re.findall(r'(\\d{6})-(\\d{1})', idate)[0]\n",
    "        _data_export.create_dataset('%s/%s/%03d'%(_date_str, _pardigm_str, chidx), data=_epoch, compression=4)\n",
    "        pbar.update(1)\n",
    "pbar.close()\n",
    "\n",
    "_data_export.close()"
   ]
  },
  {
   "cell_type": "markdown",
   "metadata": {},
   "source": [
    "---\n",
    "\n",
    "tapping locking"
   ]
  },
  {
   "cell_type": "code",
   "execution_count": 3,
   "metadata": {
    "collapsed": true
   },
   "outputs": [],
   "source": [
    "# _behavior = pd.read_csv('wuzhenwei-behavior-final.csv', dtype={'date':'str'})\n",
    "# _behavior = patient.get_marker('zhangchen-behavior-final', dtype={'date':'str'})\n",
    "# check_behavior_prediction = lambda x,y,z: _behavior.time[(_behavior.paradigm == x) & (_behavior['date'] == y)].values < z\n",
    "# _behavior[_behavior.paradigm=='1-5'].head()"
   ]
  },
  {
   "cell_type": "code",
   "execution_count": 17,
   "metadata": {},
   "outputs": [
    {
     "name": "stderr",
     "output_type": "stream",
     "text": [
      "100%|██████████| 2310/2310 [49:53<00:00,  1.30s/it] \n"
     ]
    }
   ],
   "source": [
    "_data_export = h5py.File('%s-10-delta-tapping-lock.h5'%patient_id, 'w')\n",
    "\n",
    "for idate in np.unique([idate[:6] for idate in data_list.keys()]):\n",
    "    [_data_export.create_group('%s/%d'%(idate, i)) for i in range(1,4)]\n",
    "\n",
    "chidx = 10\n",
    "pbar = tqdm(total=110*7*3)\n",
    "for chidx in range(110):\n",
    "    data_list = patient.load_isplit(chidx)\n",
    "    for idate in data_list.keys():\n",
    "        if idate[-1] != '1':\n",
    "            pbar.update(1)\n",
    "            continue\n",
    "        _entry = data_list[idate]['value']\n",
    "        \n",
    "        _t = patient.get_marker(idate, paradigm='%s-10'%idate[-1])\n",
    "        _b = _behavior.time[(_behavior.date == idate[:6]) & (_behavior.paradigm == '%s-10'%idate[-1])].values - 0\n",
    "        _marker = _t + _b\n",
    "\n",
    "        _filted = signal.hilbert(signal.filtfilt(taps, 1, _entry))\n",
    "        _epoch = ea.create_1d_epoch_bymarker(_filted, _marker, ROI, int(_freq))\n",
    "\n",
    "        _date_str, _pardigm_str = re.findall(r'(\\d{6})-(\\d{1})', idate)[0]\n",
    "        _data_export.create_dataset('%s/%s/%03d'%(_date_str, _pardigm_str, chidx), data=_epoch, compression=4)\n",
    "        pbar.update(1)\n",
    "pbar.close()"
   ]
  },
  {
   "cell_type": "code",
   "execution_count": 14,
   "metadata": {
    "collapsed": true
   },
   "outputs": [],
   "source": [
    "_data_export.close()"
   ]
  },
  {
   "cell_type": "code",
   "execution_count": 15,
   "metadata": {},
   "outputs": [
    {
     "name": "stderr",
     "output_type": "stream",
     "text": [
      "\n"
     ]
    }
   ],
   "source": [
    "pbar.close()"
   ]
  },
  {
   "cell_type": "code",
   "execution_count": null,
   "metadata": {
    "collapsed": true
   },
   "outputs": [],
   "source": []
  }
 ],
 "metadata": {
  "kernelspec": {
   "display_name": "Python 3",
   "language": "python",
   "name": "python3"
  },
  "language_info": {
   "codemirror_mode": {
    "name": "ipython",
    "version": 3
   },
   "file_extension": ".py",
   "mimetype": "text/x-python",
   "name": "python",
   "nbconvert_exporter": "python",
   "pygments_lexer": "ipython3",
   "version": "3.6.3"
  }
 },
 "nbformat": 4,
 "nbformat_minor": 2
}
