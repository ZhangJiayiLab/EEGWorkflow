{
 "cells": [
  {
   "cell_type": "code",
   "execution_count": 1,
   "metadata": {
    "collapsed": true
   },
   "outputs": [],
   "source": [
    "import EEGAnalysis as ea\n",
    "import h5py\n",
    "import numpy as np\n",
    "import scipy.signal as signal\n",
    "import matplotlib.pyplot as plt\n",
    "import re, os\n",
    "from tqdm import tqdm"
   ]
  },
  {
   "cell_type": "code",
   "execution_count": 2,
   "metadata": {
    "collapsed": true
   },
   "outputs": [],
   "source": [
    "dataset = ea.DataManager('/home/yizhan/storage/EEG/Data')\n",
    "\n",
    "patient_id = 'zhouchen'\n",
    "patient = dataset.get_patient(patient_id)"
   ]
  },
  {
   "cell_type": "code",
   "execution_count": 3,
   "metadata": {
    "collapsed": true
   },
   "outputs": [],
   "source": [
    "_freq = 2000\n",
    "ROI = (-3, 3)\n",
    "frange = np.logspace(np.log10(10), np.log10(150), 40)\n",
    "# frange = np.logspace(np.log10(1), np.log10(20), 30)\n",
    "zbase = (-2,-1)\n",
    "tspec = np.linspace(ROI[0], ROI[1], int(_freq)*(ROI[1]-ROI[0]))"
   ]
  },
  {
   "cell_type": "code",
   "execution_count": 4,
   "metadata": {
    "collapsed": true
   },
   "outputs": [],
   "source": [
    "nyq = _freq / 2.0\n",
    "width = 5.0 / nyq\n",
    "ripple_db = 60.0\n",
    "\n",
    "# Compute the order and Kaiser parameter for the FIR filter.\n",
    "N, beta = signal.kaiserord(ripple_db, width)\n",
    "\n",
    "taps = signal.firwin(N, [50/nyq, 80/nyq],window=('kaiser', beta),pass_zero=False)\n",
    "\n",
    "# _filted = signal.filtfilt(taps, 1, _data)\n",
    "# _hilbert_pwr = np.abs(signal.hilbert(_filted))"
   ]
  },
  {
   "cell_type": "code",
   "execution_count": 6,
   "metadata": {
    "collapsed": true
   },
   "outputs": [],
   "source": [
    "data_list = patient.load_isplit(110)\n",
    "\n",
    "sample = data_list['180901-1']"
   ]
  },
  {
   "cell_type": "code",
   "execution_count": 8,
   "metadata": {
    "collapsed": true
   },
   "outputs": [
    {
     "data": {
      "text/plain": [
       "['180827-1',\n",
       " '180827-2',\n",
       " '180827-3',\n",
       " '180829-1',\n",
       " '180829-2',\n",
       " '180829-3',\n",
       " '180831-1',\n",
       " '180831-2',\n",
       " '180831-3',\n",
       " '180901-1',\n",
       " '180901-2',\n",
       " '180901-3',\n",
       " '180902-1',\n",
       " '180902-2',\n",
       " '180902-3',\n",
       " '180903-1',\n",
       " '180903-2',\n",
       " '180903-3',\n",
       " '180904-1',\n",
       " '180904-2',\n",
       " '180904-3']"
      ]
     },
     "execution_count": 8,
     "metadata": {},
     "output_type": "execute_result"
    }
   ],
   "source": [
    "list(data_list.keys())"
   ]
  },
  {
   "cell_type": "code",
   "execution_count": 12,
   "metadata": {},
   "outputs": [
    {
     "data": {
      "text/plain": [
       "array([146.2, 156.2, 166.2, 176.2, 186.2, 196.2, 206.2, 216.2, 226.2,\n",
       "       236.2, 246.2, 256.2, 266.2, 276.2, 286.2, 296.2, 306.2, 316.2,\n",
       "       326.2, 336.2])"
      ]
     },
     "execution_count": 12,
     "metadata": {},
     "output_type": "execute_result"
    }
   ],
   "source": [
    "_markers = patient.get_marker('180827-3', paradigm='3-10')\n",
    "_markers"
   ]
  },
  {
   "cell_type": "code",
   "execution_count": 7,
   "metadata": {},
   "outputs": [
    {
     "name": "stderr",
     "output_type": "stream",
     "text": [
      "  1%|          | 3/330 [01:15<2:17:44, 25.27s/it]"
     ]
    },
    {
     "ename": "KeyboardInterrupt",
     "evalue": "",
     "output_type": "error",
     "traceback": [
      "\u001b[0;31m---------------------------------------------------------------------------\u001b[0m",
      "\u001b[0;31mKeyboardInterrupt\u001b[0m                         Traceback (most recent call last)",
      "\u001b[0;32m<ipython-input-7-cf31d149090b>\u001b[0m in \u001b[0;36m<module>\u001b[0;34m\u001b[0m\n\u001b[1;32m     38\u001b[0m             \u001b[0m_zscore\u001b[0m \u001b[0;34m=\u001b[0m \u001b[0;34m(\u001b[0m\u001b[0m_pwr_epoch\u001b[0m \u001b[0;34m-\u001b[0m \u001b[0m_mu\u001b[0m\u001b[0;34m)\u001b[0m \u001b[0;34m/\u001b[0m \u001b[0m_sig\u001b[0m\u001b[0;34m\u001b[0m\u001b[0;34m\u001b[0m\u001b[0m\n\u001b[1;32m     39\u001b[0m \u001b[0;34m\u001b[0m\u001b[0m\n\u001b[0;32m---> 40\u001b[0;31m             \u001b[0m_smooth\u001b[0m \u001b[0;34m=\u001b[0m \u001b[0mea\u001b[0m\u001b[0;34m.\u001b[0m\u001b[0mdecomposition\u001b[0m\u001b[0;34m.\u001b[0m\u001b[0mgaussianwind\u001b[0m\u001b[0;34m(\u001b[0m\u001b[0mnp\u001b[0m\u001b[0;34m.\u001b[0m\u001b[0mmean\u001b[0m\u001b[0;34m(\u001b[0m\u001b[0m_zscore\u001b[0m\u001b[0;34m,\u001b[0m \u001b[0;36m0\u001b[0m\u001b[0;34m)\u001b[0m\u001b[0;34m,\u001b[0m \u001b[0mfs\u001b[0m\u001b[0;34m=\u001b[0m\u001b[0m_freq\u001b[0m\u001b[0;34m,\u001b[0m \u001b[0msigma\u001b[0m\u001b[0;34m=\u001b[0m\u001b[0;36m0.05\u001b[0m\u001b[0;34m)\u001b[0m\u001b[0;34m\u001b[0m\u001b[0;34m\u001b[0m\u001b[0m\n\u001b[0m\u001b[1;32m     41\u001b[0m \u001b[0;34m\u001b[0m\u001b[0m\n\u001b[1;32m     42\u001b[0m             \u001b[0m_entrain\u001b[0m \u001b[0;34m=\u001b[0m \u001b[0mnp\u001b[0m\u001b[0;34m.\u001b[0m\u001b[0mmax\u001b[0m\u001b[0;34m(\u001b[0m\u001b[0m_smooth\u001b[0m\u001b[0;34m[\u001b[0m\u001b[0;34m(\u001b[0m\u001b[0mtspec\u001b[0m \u001b[0;34m>\u001b[0m \u001b[0;34m-\u001b[0m\u001b[0;36m1\u001b[0m\u001b[0;34m)\u001b[0m \u001b[0;34m&\u001b[0m \u001b[0;34m(\u001b[0m\u001b[0mtspec\u001b[0m \u001b[0;34m<\u001b[0m \u001b[0;36m1\u001b[0m\u001b[0;34m)\u001b[0m\u001b[0;34m]\u001b[0m\u001b[0;34m)\u001b[0m \u001b[0;34m>\u001b[0m \u001b[0;36m1.96\u001b[0m \u001b[0;32mand\u001b[0m \u001b[0mnp\u001b[0m\u001b[0;34m.\u001b[0m\u001b[0mmax\u001b[0m\u001b[0;34m(\u001b[0m\u001b[0m_smooth\u001b[0m\u001b[0;34m[\u001b[0m\u001b[0;34m(\u001b[0m\u001b[0mtspec\u001b[0m \u001b[0;34m<\u001b[0m \u001b[0;34m-\u001b[0m\u001b[0;36m1\u001b[0m\u001b[0;34m)\u001b[0m \u001b[0;34m|\u001b[0m \u001b[0;34m(\u001b[0m\u001b[0mtspec\u001b[0m \u001b[0;34m>\u001b[0m \u001b[0;36m1\u001b[0m\u001b[0;34m)\u001b[0m\u001b[0;34m]\u001b[0m\u001b[0;34m)\u001b[0m \u001b[0;34m<\u001b[0m \u001b[0;36m1.96\u001b[0m\u001b[0;34m\u001b[0m\u001b[0;34m\u001b[0m\u001b[0m\n",
      "\u001b[0;32m~/.conda/envs/eeg/lib/python3.6/site-packages/EEGAnalysis/decomposition/filter.py\u001b[0m in \u001b[0;36mgaussianwind\u001b[0;34m(data, fs, sigma)\u001b[0m\n\u001b[1;32m     38\u001b[0m \u001b[0;32mdef\u001b[0m \u001b[0mgaussianwind\u001b[0m\u001b[0;34m(\u001b[0m\u001b[0mdata\u001b[0m\u001b[0;34m,\u001b[0m \u001b[0mfs\u001b[0m\u001b[0;34m,\u001b[0m \u001b[0msigma\u001b[0m\u001b[0;34m)\u001b[0m\u001b[0;34m:\u001b[0m\u001b[0;34m\u001b[0m\u001b[0;34m\u001b[0m\u001b[0m\n\u001b[1;32m     39\u001b[0m     \u001b[0mk\u001b[0m \u001b[0;34m=\u001b[0m \u001b[0mgaussian_kernel\u001b[0m\u001b[0;34m(\u001b[0m\u001b[0mfs\u001b[0m\u001b[0;34m,\u001b[0m \u001b[0msigma\u001b[0m\u001b[0;34m)\u001b[0m\u001b[0;34m\u001b[0m\u001b[0;34m\u001b[0m\u001b[0m\n\u001b[0;32m---> 40\u001b[0;31m     \u001b[0mtotalpwr_filter\u001b[0m \u001b[0;34m=\u001b[0m \u001b[0mnp\u001b[0m\u001b[0;34m.\u001b[0m\u001b[0mconvolve\u001b[0m\u001b[0;34m(\u001b[0m\u001b[0mdata\u001b[0m\u001b[0;34m,\u001b[0m \u001b[0mk\u001b[0m\u001b[0;34m)\u001b[0m\u001b[0;34m\u001b[0m\u001b[0;34m\u001b[0m\u001b[0m\n\u001b[0m\u001b[1;32m     41\u001b[0m     \u001b[0;32mreturn\u001b[0m \u001b[0mtotalpwr_filter\u001b[0m\u001b[0;34m[\u001b[0m\u001b[0mfs\u001b[0m\u001b[0;34m:\u001b[0m\u001b[0;34m-\u001b[0m\u001b[0mfs\u001b[0m\u001b[0;34m+\u001b[0m\u001b[0;36m1\u001b[0m\u001b[0;34m]\u001b[0m\u001b[0;34m\u001b[0m\u001b[0;34m\u001b[0m\u001b[0m\n",
      "\u001b[0;32m~/.conda/envs/eeg/lib/python3.6/site-packages/numpy/core/numeric.py\u001b[0m in \u001b[0;36mconvolve\u001b[0;34m(a, v, mode)\u001b[0m\n\u001b[1;32m   1112\u001b[0m         \u001b[0;32mraise\u001b[0m \u001b[0mValueError\u001b[0m\u001b[0;34m(\u001b[0m\u001b[0;34m'v cannot be empty'\u001b[0m\u001b[0;34m)\u001b[0m\u001b[0;34m\u001b[0m\u001b[0;34m\u001b[0m\u001b[0m\n\u001b[1;32m   1113\u001b[0m     \u001b[0mmode\u001b[0m \u001b[0;34m=\u001b[0m \u001b[0m_mode_from_name\u001b[0m\u001b[0;34m(\u001b[0m\u001b[0mmode\u001b[0m\u001b[0;34m)\u001b[0m\u001b[0;34m\u001b[0m\u001b[0;34m\u001b[0m\u001b[0m\n\u001b[0;32m-> 1114\u001b[0;31m     \u001b[0;32mreturn\u001b[0m \u001b[0mmultiarray\u001b[0m\u001b[0;34m.\u001b[0m\u001b[0mcorrelate\u001b[0m\u001b[0;34m(\u001b[0m\u001b[0ma\u001b[0m\u001b[0;34m,\u001b[0m \u001b[0mv\u001b[0m\u001b[0;34m[\u001b[0m\u001b[0;34m:\u001b[0m\u001b[0;34m:\u001b[0m\u001b[0;34m-\u001b[0m\u001b[0;36m1\u001b[0m\u001b[0;34m]\u001b[0m\u001b[0;34m,\u001b[0m \u001b[0mmode\u001b[0m\u001b[0;34m)\u001b[0m\u001b[0;34m\u001b[0m\u001b[0;34m\u001b[0m\u001b[0m\n\u001b[0m\u001b[1;32m   1115\u001b[0m \u001b[0;34m\u001b[0m\u001b[0m\n\u001b[1;32m   1116\u001b[0m \u001b[0;34m\u001b[0m\u001b[0m\n",
      "\u001b[0;31mKeyboardInterrupt\u001b[0m: "
     ]
    }
   ],
   "source": [
    "tn = 2000\n",
    "chn = 110\n",
    "pbar = tqdm(total = chn * len(list(data_list.keys())))\n",
    "\n",
    "_result = []\n",
    "\n",
    "for each in data_list.keys():\n",
    "#     _markers = patient.get_marker(each)\n",
    "#     if np.size(_markers) == 0:\n",
    "#         pbar.update(chn * tn)\n",
    "#         continue\n",
    "#     a = np.where(np.diff(_markers) > 15)[0]\n",
    "#     _head, _tail = _markers[a + np.array([0,1])]\n",
    "    _param = each[-1]\n",
    "    _head = patient.get_marker(each, paradigm=_param+'-10')[-1]\n",
    "    _tail = patient.get_marker(each, paradigm=_param+'-5')[0]\n",
    "    \n",
    "    _head, _tail = (_head, tail) if (_head < _tail) else (_tail, _head)\n",
    "    \n",
    "    _day_result = []\n",
    "    for chidx in range(chn):\n",
    "        _data = patient.load_isplit(chidx, name=each)[each]['value']\n",
    "        \n",
    "        _filted = signal.filtfilt(taps, 1, _data)\n",
    "        _hilbert_pwr = np.abs(signal.hilbert(_filted))\n",
    "        # _hilbert_pwr\n",
    "        _cut_entry = _hilbert_pwr[int(_head*_freq):int(_tail*_freq)]\n",
    "        _cut = np.hstack((np.flipud(_cut_entry), _cut_entry, np.flipud(_cut_entry)))\n",
    "\n",
    "        _random_marker = np.random.uniform(size=(tn,), high=np.size(_cut)/_freq-3, low=3)\n",
    "\n",
    "        _count = []\n",
    "        for _marker in _random_marker:\n",
    "            _pwr_epoch = ea.create_1d_epoch_bymarker(_cut, [_marker], ROI, _freq)\n",
    "\n",
    "            _mu = np.reshape(np.mean(_pwr_epoch, 1), (1, 1))\n",
    "            _sig = np.reshape(np.std(_pwr_epoch, 1), (1, 1))\n",
    "\n",
    "            _zscore = (_pwr_epoch - _mu) / _sig\n",
    "\n",
    "            _smooth = ea.decomposition.gaussianwind(np.mean(_zscore, 0), fs=_freq, sigma=0.05)\n",
    "\n",
    "            _entrain = np.max(_smooth[(tspec > -1) & (tspec < 1)]) > 1.96 and np.max(_smooth[(tspec < -1) | (tspec > 1)]) < 1.96\n",
    "            _count.append(1 if _entrain else 0)\n",
    "            \n",
    "        _day_result.append(np.sum(_count) / np.size(_count))\n",
    "        pbar.update(1)\n",
    "    _result.append(_day_result)\n",
    "pbar.close()\n"
   ]
  },
  {
   "cell_type": "code",
   "execution_count": null,
   "metadata": {
    "collapsed": true
   },
   "outputs": [],
   "source": [
    "tn = 2000\n",
    "\n",
    "ch_p = []\n",
    "pbar = tqdm(total=73 * 2000)\n",
    "for chidx in range(73):\n",
    "\n",
    "    _unit, _data, _ = patient.load_isplit(chidx = _chidx, name = _fname)[_fname].values()\n",
    "    _filted = signal.filtfilt(taps, 1, _data)\n",
    "    _hilbert_pwr = np.abs(signal.hilbert(_filted))\n",
    "\n",
    "    _random_marker = np.random.uniform(size=(tn,), high=380, low=280)\n",
    "    # plt.hist(_random_marker)\n",
    "    # plt.show()\n",
    "\n",
    "    _count = []\n",
    "    for _marker in _random_marker:\n",
    "        _pwr_epoch = ea.create_1d_epoch_bymarker(_hilbert_pwr, [_marker], ROI, _freq)\n",
    "\n",
    "        _mu = np.reshape(np.mean(_pwr_epoch, 1), (1, 1))\n",
    "        _sig = np.reshape(np.std(_pwr_epoch, 1), (1, 1))\n",
    "\n",
    "        _zscore = (_pwr_epoch - _mu) / _sig\n",
    "\n",
    "        _smooth = ea.decomposition.gaussianwind(np.mean(_zscore, 0), fs=_freq, sigma=0.05)\n",
    "\n",
    "        _entrain = np.max(_smooth[(tspec > -1) & (tspec < 1)]) > 1.96 and np.max(_smooth[(tspec < -1) | (tspec > 1)]) < 1.96\n",
    "        _count.append(1 if _entrain else 0)\n",
    "        pbar.update(1)\n",
    "    #     plt.plot(tspec, _smooth)\n",
    "    #     plt.vlines([tspec[np.argmax(_smooth)]], np.min(_smooth), np.max(_smooth)*1.1)\n",
    "    #     plt.title('peak time = %.3f sec'%tspec[np.argmax(_smooth)])\n",
    "\n",
    "    #     plt.show()\n",
    "    ch_p.append(np.sum(_count) / 2000)\n",
    "pbar.close()"
   ]
  }
 ],
 "metadata": {
  "kernelspec": {
   "display_name": "Python 3",
   "language": "python",
   "name": "python3"
  },
  "language_info": {
   "codemirror_mode": {
    "name": "ipython",
    "version": 3
   },
   "file_extension": ".py",
   "mimetype": "text/x-python",
   "name": "python",
   "nbconvert_exporter": "python",
   "pygments_lexer": "ipython3",
   "version": "3.6.3"
  }
 },
 "nbformat": 4,
 "nbformat_minor": 2
}
