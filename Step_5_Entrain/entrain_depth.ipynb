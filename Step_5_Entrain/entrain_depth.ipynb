{
 "cells": [
  {
   "cell_type": "code",
   "execution_count": 1,
   "metadata": {
    "collapsed": true
   },
   "outputs": [],
   "source": [
    "import pandas as pd\n",
    "import numpy as np\n",
    "import matplotlib.pyplot as plt\n",
    "from scipy.io import loadmat\n",
    "import os\n",
    "\n",
    "from sklearn.linear_model import LinearRegression"
   ]
  },
  {
   "cell_type": "code",
   "execution_count": 2,
   "metadata": {
    "collapsed": true
   },
   "outputs": [],
   "source": [
    "_data_dir = '/media/STORAGE/EEG'"
   ]
  },
  {
   "cell_type": "code",
   "execution_count": 38,
   "metadata": {},
   "outputs": [
    {
     "data": {
      "text/html": [
       "<div>\n",
       "<style scoped>\n",
       "    .dataframe tbody tr th:only-of-type {\n",
       "        vertical-align: middle;\n",
       "    }\n",
       "\n",
       "    .dataframe tbody tr th {\n",
       "        vertical-align: top;\n",
       "    }\n",
       "\n",
       "    .dataframe thead th {\n",
       "        text-align: right;\n",
       "    }\n",
       "</style>\n",
       "<table border=\"1\" class=\"dataframe\">\n",
       "  <thead>\n",
       "    <tr style=\"text-align: right;\">\n",
       "      <th></th>\n",
       "      <th>Record Number</th>\n",
       "      <th>X coor</th>\n",
       "      <th>Y coor</th>\n",
       "      <th>Z coor</th>\n",
       "      <th>Hits</th>\n",
       "      <th>Level 1</th>\n",
       "      <th>Level 2</th>\n",
       "      <th>Level 3</th>\n",
       "      <th>Level 4</th>\n",
       "      <th>Level 5</th>\n",
       "      <th>Appended Data</th>\n",
       "    </tr>\n",
       "  </thead>\n",
       "  <tbody>\n",
       "    <tr>\n",
       "      <th>0</th>\n",
       "      <td>1</td>\n",
       "      <td>21.995943</td>\n",
       "      <td>-95.57223</td>\n",
       "      <td>20.791727</td>\n",
       "      <td>12</td>\n",
       "      <td>Right Cerebrum</td>\n",
       "      <td>Occipital Lobe</td>\n",
       "      <td>Cuneus</td>\n",
       "      <td>*</td>\n",
       "      <td>*</td>\n",
       "      <td>A,</td>\n",
       "    </tr>\n",
       "    <tr>\n",
       "      <th>1</th>\n",
       "      <td>1</td>\n",
       "      <td>21.995943</td>\n",
       "      <td>-95.57223</td>\n",
       "      <td>20.791727</td>\n",
       "      <td>6</td>\n",
       "      <td>Right Cerebrum</td>\n",
       "      <td>Occipital Lobe</td>\n",
       "      <td>Middle Occipital Gyrus</td>\n",
       "      <td>*</td>\n",
       "      <td>*</td>\n",
       "      <td>A,</td>\n",
       "    </tr>\n",
       "    <tr>\n",
       "      <th>2</th>\n",
       "      <td>1</td>\n",
       "      <td>21.995943</td>\n",
       "      <td>-95.57223</td>\n",
       "      <td>20.791727</td>\n",
       "      <td>6</td>\n",
       "      <td>Right Cerebrum</td>\n",
       "      <td>Occipital Lobe</td>\n",
       "      <td>Middle Occipital Gyrus</td>\n",
       "      <td>Gray Matter</td>\n",
       "      <td>Brodmann area 18</td>\n",
       "      <td>A,</td>\n",
       "    </tr>\n",
       "    <tr>\n",
       "      <th>3</th>\n",
       "      <td>1</td>\n",
       "      <td>21.995943</td>\n",
       "      <td>-95.57223</td>\n",
       "      <td>20.791727</td>\n",
       "      <td>3</td>\n",
       "      <td>Right Cerebrum</td>\n",
       "      <td>Occipital Lobe</td>\n",
       "      <td>Cuneus</td>\n",
       "      <td>Gray Matter</td>\n",
       "      <td>Brodmann area 18</td>\n",
       "      <td>A,</td>\n",
       "    </tr>\n",
       "    <tr>\n",
       "      <th>4</th>\n",
       "      <td>2</td>\n",
       "      <td>20.320148</td>\n",
       "      <td>-92.53135</td>\n",
       "      <td>19.957294</td>\n",
       "      <td>27</td>\n",
       "      <td>Right Cerebrum</td>\n",
       "      <td>Occipital Lobe</td>\n",
       "      <td>Cuneus</td>\n",
       "      <td>Gray Matter</td>\n",
       "      <td>Brodmann area 18</td>\n",
       "      <td>A,</td>\n",
       "    </tr>\n",
       "  </tbody>\n",
       "</table>\n",
       "</div>"
      ],
      "text/plain": [
       "   Record Number     X coor    Y coor     Z coor  Hits         Level 1  \\\n",
       "0              1  21.995943 -95.57223  20.791727    12  Right Cerebrum   \n",
       "1              1  21.995943 -95.57223  20.791727     6  Right Cerebrum   \n",
       "2              1  21.995943 -95.57223  20.791727     6  Right Cerebrum   \n",
       "3              1  21.995943 -95.57223  20.791727     3  Right Cerebrum   \n",
       "4              2  20.320148 -92.53135  19.957294    27  Right Cerebrum   \n",
       "\n",
       "          Level 2                 Level 3      Level 4           Level 5  \\\n",
       "0  Occipital Lobe                  Cuneus            *                 *   \n",
       "1  Occipital Lobe  Middle Occipital Gyrus            *                 *   \n",
       "2  Occipital Lobe  Middle Occipital Gyrus  Gray Matter  Brodmann area 18   \n",
       "3  Occipital Lobe                  Cuneus  Gray Matter  Brodmann area 18   \n",
       "4  Occipital Lobe                  Cuneus  Gray Matter  Brodmann area 18   \n",
       "\n",
       "  Appended Data  \n",
       "0            A,  \n",
       "1            A,  \n",
       "2            A,  \n",
       "3            A,  \n",
       "4            A,  "
      ]
     },
     "execution_count": 38,
     "metadata": {},
     "output_type": "execute_result"
    }
   ],
   "source": [
    "patient = 'zhouchen'\n",
    "_count = loadmat(os.path.join(_data_dir, 'entrain_count', '%s_entrain_1-5.mat'%patient))['result']\n",
    "\n",
    "_loc = pd.read_csv(os.path.join(_data_dir, 'electrode_layout', 'layout_%s'%patient, '%s_tal_coord.td.fill.csv'%patient))\n",
    "_electrode = pd.read_csv(os.path.join(_data_dir, 'electrode_layout', 'layout_%s'%patient, '%s.csv'%patient))\n",
    "_loc.head()"
   ]
  },
  {
   "cell_type": "code",
   "execution_count": 55,
   "metadata": {},
   "outputs": [
    {
     "data": {
      "text/plain": [
       "array([1., 0., 0., 0., 0., 0., 0., 0., 0., 0., 0., 0., 0., 0., 1., 1., 1.,\n",
       "       1., 0., 0., 0., 1., 1., 1., 1., 1., 1., 0., 0., 0., 0., 0., 0., 1.,\n",
       "       0., 0., 0., 1., 1., 1., 1., 1., 1., 1., 0., 0., 0., 0., 1., 1., 1.,\n",
       "       0., 0., 1., 1., 1., 0., 1., 1., 1., 1., 0., 0., 0., 0., 1., 1., 1.,\n",
       "       1., 1., 1., 1., 1., 1., 1., 1., 1., 1., 1., 1., 1., 1., 1., 1., 1.,\n",
       "       1., 1., 1., 1., 1., 1., 1., 1., 1., 1., 1., 1., 1., 1., 1., 0., 0.,\n",
       "       0., 0., 0., 1., 0., 0., 0., 1., 1., 1.])"
      ]
     },
     "execution_count": 55,
     "metadata": {},
     "output_type": "execute_result"
    }
   ],
   "source": [
    "_visual = ['Brodmann area 23', 'Brodmann area 31']  # CG\n",
    "_visual = ['Brodmann area 17', 'Brodmann area 18', 'Brodmann area 19']  # VC\n",
    "_visual = ['Brodmann area 7']\n",
    "_visual = ['Brodmann area 7', 'Brodmann area 17', 'Brodmann area 18', \n",
    "           'Brodmann area 19', 'Brodmann area 23', 'Brodmann area 31']\n",
    "\n",
    "_chosen = np.zeros((112,))\n",
    "\n",
    "for each in _visual:\n",
    "    _chosen[np.unique(_loc[_loc['Level 5'] == each]['Record Number'].values)] = 1\n",
    "\n",
    "_chosen = np.abs(_chosen - 1)\n",
    "_chosen"
   ]
  },
  {
   "cell_type": "code",
   "execution_count": 56,
   "metadata": {
    "collapsed": true
   },
   "outputs": [],
   "source": [
    "_depth = np.sqrt(np.sum(_electrode[['X', 'Y', 'Z']] ** 2, 1)).values[_chosen==1]\n",
    "_dcount = np.sum(_count, 1)[_chosen==1]"
   ]
  },
  {
   "cell_type": "code",
   "execution_count": 59,
   "metadata": {},
   "outputs": [
    {
     "data": {
      "text/plain": [
       "(0, 120)"
      ]
     },
     "execution_count": 59,
     "metadata": {},
     "output_type": "execute_result"
    },
    {
     "data": {
      "image/png": "[encoded data removed]",
      "text/plain": [
       "<Figure size 432x288 with 1 Axes>"
      ]
     },
     "metadata": {
      "needs_background": "light"
     },
     "output_type": "display_data"
    }
   ],
   "source": [
    "a = LinearRegression().fit(_dcount.reshape((len(_dcount), 1)), _depth)\n",
    "R_2 = a.score(_dcount.reshape((len(_dcount), 1)), _depth)\n",
    "\n",
    "plt.scatter(_dcount, _depth)\n",
    "plt.plot(np.linspace(-0.5,3.5, 1000), np.linspace(-0.5,3.5, 1000) * a.coef_[0] + a.intercept_)\n",
    "\n",
    "plt.title('$R^2$ = %.3f'%R_2)\n",
    "plt.xlim((-1, 8))\n",
    "plt.ylim((0, 120))"
   ]
  },
  {
   "cell_type": "code",
   "execution_count": null,
   "metadata": {
    "collapsed": true
   },
   "outputs": [],
   "source": []
  }
 ],
 "metadata": {
  "kernelspec": {
   "display_name": "Python 3",
   "language": "python",
   "name": "python3"
  },
  "language_info": {
   "codemirror_mode": {
    "name": "ipython",
    "version": 3
   },
   "file_extension": ".py",
   "mimetype": "text/x-python",
   "name": "python",
   "nbconvert_exporter": "python",
   "pygments_lexer": "ipython3",
   "version": "3.6.3"
  }
 },
 "nbformat": 4,
 "nbformat_minor": 2
}
